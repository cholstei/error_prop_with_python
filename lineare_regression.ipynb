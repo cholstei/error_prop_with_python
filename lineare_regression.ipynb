{
 "cells": [
  {
   "cell_type": "markdown",
   "metadata": {},
   "source": [
    "## Lineare Regression mit Python\n",
    "\n",
    "Laden der benötigten Pakete"
   ]
  },
  {
   "cell_type": "code",
   "execution_count": 2,
   "metadata": {},
   "outputs": [],
   "source": [
    "#import matplotlib.pyplot as plt # for plotting\n",
    "import numpy as np   # Basic numerics"
   ]
  },
  {
   "cell_type": "markdown",
   "metadata": {},
   "source": [
    "#### Beispiel:\n",
    "Wir nehmen an, dass wir den Druck $p$ eines idealen Gases in einem festen Behälter (Volumen $V$) in abhängigkeit der Temperatur $t$ (in Celsius) gemessen haben. Nach dem idealen Gasgesetz ($pV=nR(t+t_0$) sollte hier ein linearer Zusammenhang bestehen, aus dem wir den absoluten Nullpunkt $t_0$ (in Celsius) bestimmen können, sofern $V, n, R$ bekannt sind:\n",
    "$$p(t) = \\frac{nR}{V}(t +  t_0)$$\n",
    "oder\n",
    "$ p(t) = at+b$, mit $a=\\frac{nR}{V}$ und $b = \\frac{nR}{V}t_0$\n"
   ]
  },
  {
   "cell_type": "code",
   "execution_count": 3,
   "metadata": {},
   "outputs": [],
   "source": [
    "t = np.linspace(-20,100,10)\n",
    "p = 2.1*(t + np.random.normal(273,5,10))"
   ]
  },
  {
   "cell_type": "markdown",
   "metadata": {},
   "source": [
    "Grafik der Daten"
   ]
  },
  {
   "cell_type": "code",
   "execution_count": 7,
   "metadata": {},
   "outputs": [
    {
     "data": {
      "text/plain": [
       "<function matplotlib.pyplot.show(*args, **kw)>"
      ]
     },
     "execution_count": 7,
     "metadata": {},
     "output_type": "execute_result"
    },
    {
     "data": {
      "image/png": "[encoded data removed]",
      "text/plain": [
       "<Figure size 432x288 with 1 Axes>"
      ]
     },
     "metadata": {
      "needs_background": "light"
     },
     "output_type": "display_data"
    }
   ],
   "source": [
    "import matplotlib.pyplot as plt # for plotting\n",
    "plt.plot(t,p,'o')\n",
    "plt.xlabel('Temperature t in C')\n",
    "plt.ylabel('Druck in Pa')\n",
    "plt.show"
   ]
  },
  {
   "cell_type": "code",
   "execution_count": 5,
   "metadata": {},
   "outputs": [
    {
     "name": "stdout",
     "output_type": "stream",
     "text": [
      "Steigung a =  2.1177920531164838 , Achsenabschnitt b =  578.5743154058588 , Fehler der Steigung a =  0.07545852730761497\n"
     ]
    }
   ],
   "source": [
    "# unfortunately linregress in the stats package does not provide\n",
    "# the standard deviation (error) of the intercept\n",
    "from scipy.stats import linregress\n",
    "a, b, r, P, err_a= linregress(t,p)\n",
    "print(\"Steigung a = \", a, \", Achsenabschnitt b = \", b, \", Fehler der Steigung a = \",err_a)"
   ]
  },
  {
   "cell_type": "code",
   "execution_count": 6,
   "metadata": {},
   "outputs": [],
   "source": [
    "from scipy.optimize import curve_fit"
   ]
  },
  {
   "cell_type": "code",
   "execution_count": 8,
   "metadata": {},
   "outputs": [],
   "source": [
    "def linear_f(x,a,b):\n",
    "    '''x: independent variable\n",
    "       a: slope\n",
    "       b: intersect '''\n",
    "    return a*x+b"
   ]
  },
  {
   "cell_type": "code",
   "execution_count": 9,
   "metadata": {},
   "outputs": [
    {
     "name": "stdout",
     "output_type": "stream",
     "text": [
      "p_opt =  [  2.11779205 578.5743154 ]\n",
      "p_cov =  [[ 5.69398931e-03 -2.27759576e-01]\n",
      " [-2.27759576e-01  1.74615675e+01]]\n"
     ]
    }
   ],
   "source": [
    "p_opt, p_cov = curve_fit(linear_f,t,p)  # finds best parameter a, b and there covariance\n",
    "# Returns:\n",
    "#     optimal parameters in p_opt\n",
    "#     covariance matrix of these parameters in p_cov\n",
    "print(\"p_opt = \",p_opt)\n",
    "print(\"p_cov = \",p_cov)"
   ]
  },
  {
   "cell_type": "code",
   "execution_count": 10,
   "metadata": {},
   "outputs": [
    {
     "data": {
      "text/plain": [
       "array([527.10660805, 556.42574285, 597.23464235, 622.18851994,\n",
       "       659.07184737, 684.27559498, 713.2521171 , 742.04320911,\n",
       "       752.85521286, 778.4064807 ])"
      ]
     },
     "execution_count": 10,
     "metadata": {},
     "output_type": "execute_result"
    }
   ],
   "source": [
    "p"
   ]
  },
  {
   "cell_type": "code",
   "execution_count": 11,
   "metadata": {},
   "outputs": [],
   "source": [
    "a = p_opt[0] # slope\n",
    "Da = np.sqrt(p_cov[0,0]) # std slope (error)\n",
    "b = p_opt[1] #  intercept\n",
    "Db = np.sqrt(p_cov[1,1])"
   ]
  },
  {
   "cell_type": "code",
   "execution_count": 12,
   "metadata": {},
   "outputs": [
    {
     "name": "stdout",
     "output_type": "stream",
     "text": [
      "Steigung a =  2.12 +/- 0.075\n",
      "Achsenabschnitt b = 578.57 +/-   4.2\n"
     ]
    }
   ],
   "source": [
    "print(\"Steigung a = {:5.2f} +/- {:5.2}\".format(a,Da))\n",
    "print(\"Achsenabschnitt b = {:5.2f} +/- {:5.2}\".format(b, Db))"
   ]
  },
  {
   "cell_type": "code",
   "execution_count": 13,
   "metadata": {},
   "outputs": [
    {
     "data": {
      "text/plain": [
       "array([527.10660805, 556.42574285, 597.23464235, 622.18851994,\n",
       "       659.07184737, 684.27559498, 713.2521171 , 742.04320911,\n",
       "       752.85521286, 778.4064807 ])"
      ]
     },
     "execution_count": 13,
     "metadata": {},
     "output_type": "execute_result"
    }
   ],
   "source": [
    "p"
   ]
  },
  {
   "cell_type": "code",
   "execution_count": 14,
   "metadata": {},
   "outputs": [
    {
     "data": {
      "text/plain": [
       "<function matplotlib.pyplot.show(*args, **kw)>"
      ]
     },
     "execution_count": 14,
     "metadata": {},
     "output_type": "execute_result"
    },
    {
     "data": {
      "image/png": "[encoded data removed]",
      "text/plain": [
       "<Figure size 432x288 with 1 Axes>"
      ]
     },
     "metadata": {
      "needs_background": "light"
     },
     "output_type": "display_data"
    }
   ],
   "source": [
    "plt.plot(t,p,'o')\n",
    "plt.plot(t, a*t+b,'r')\n",
    "plt.xlabel('Temperature t in C')\n",
    "plt.ylabel('Druck in Pa')\n",
    "plt.show"
   ]
  },
  {
   "cell_type": "code",
   "execution_count": null,
   "metadata": {},
   "outputs": [],
   "source": []
  }
 ],
 "metadata": {
  "kernelspec": {
   "display_name": "Python 3",
   "language": "python",
   "name": "python3"
  },
  "language_info": {
   "codemirror_mode": {
    "name": "ipython",
    "version": 3
   },
   "file_extension": ".py",
   "mimetype": "text/x-python",
   "name": "python",
   "nbconvert_exporter": "python",
   "pygments_lexer": "ipython3",
   "version": "3.6.7"
  }
 },
 "nbformat": 4,
 "nbformat_minor": 4
}
